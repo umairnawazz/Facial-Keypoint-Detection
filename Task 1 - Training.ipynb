{
 "cells": [
  {
   "cell_type": "markdown",
   "id": "e6397b8c",
   "metadata": {},
   "source": [
    "# Importing Libraries"
   ]
  },
  {
   "cell_type": "code",
   "execution_count": 4,
   "id": "eb7c6d3c",
   "metadata": {},
   "outputs": [],
   "source": [
    "import torch\n",
    "import torch.nn as nn\n",
    "import torch.optim as optim\n",
    "from torch.utils.data import DataLoader, random_split\n",
    "import torchvision.transforms as transforms\n",
    "from torchvision import models\n",
    "from dataset import FacialKeypointsDataset\n",
    "import cv2\n",
    "from torch.utils.data import Dataset, DataLoader\n",
    "import pandas as pd\n",
    "import numpy as np\n",
    "import matplotlib.pyplot as plt\n",
    "import matplotlib\n",
    "from tqdm import tqdm\n",
    "import matplotlib\n",
    "matplotlib.style.use('ggplot')"
   ]
  },
  {
   "cell_type": "code",
   "execution_count": null,
   "id": "95194c03",
   "metadata": {},
   "outputs": [],
   "source": []
  },
  {
   "cell_type": "code",
   "execution_count": null,
   "id": "fa149c52",
   "metadata": {},
   "outputs": [],
   "source": []
  },
  {
   "cell_type": "markdown",
   "id": "1f9306e2",
   "metadata": {},
   "source": [
    "## Define HyperParams"
   ]
  },
  {
   "cell_type": "code",
   "execution_count": 3,
   "id": "9bc8ba40",
   "metadata": {},
   "outputs": [],
   "source": [
    "\n",
    "# constant paths\n",
    "ROOT_PATH = './'\n",
    "OUTPUT_PATH = './outputs'\n",
    "TEST_PATH = './outputs/Testing-images'\n",
    "# learning parameters\n",
    "BATCH_SIZE = 32\n",
    "LR = 0.001\n",
    "EPOCHS = 30\n",
    "DEVICE = torch.device('cuda' if torch.cuda.is_available() else 'cpu')\n",
    "# train/test split\n",
    "TEST_SPLIT = 0.2\n",
    "# show dataset keypoint plot\n",
    "SHOW_DATASET_PLOT = True"
   ]
  },
  {
   "cell_type": "markdown",
   "id": "bafe1dd0",
   "metadata": {},
   "source": [
    "# Defining Utilities Functions"
   ]
  },
  {
   "cell_type": "code",
   "execution_count": 4,
   "id": "fbfb96e0",
   "metadata": {},
   "outputs": [],
   "source": [
    "def valid_keypoints_plot(image, outputs, orig_keypoints, epoch):\n",
    "    \"\"\"\n",
    "    This function plots the regressed (predicted) keypoints and the actual \n",
    "    keypoints after each validation epoch for one image in the batch.\n",
    "    \"\"\"\n",
    "    # detach the image, keypoints, and output tensors from GPU to CPU\n",
    "    image = image.detach().cpu()\n",
    "    outputs = outputs.detach().cpu().numpy()\n",
    "    orig_keypoints = orig_keypoints.detach().cpu().numpy()\n",
    "    # just get a single datapoint from each batch\n",
    "    img = image[0]\n",
    "    output_keypoint = outputs[0]\n",
    "    orig_keypoint = orig_keypoints[0]\n",
    "    img = np.array(img, dtype='float32')\n",
    "    img = np.transpose(img, (1, 2, 0))\n",
    "    plt.imshow(img)\n",
    "    \n",
    "    output_keypoint = output_keypoint.reshape(-1, 2)\n",
    "    orig_keypoint = orig_keypoint.reshape(-1, 2)\n",
    "    for p in range(output_keypoint.shape[0]):\n",
    "        plt.plot(output_keypoint[p, 0], output_keypoint[p, 1], 'r.')\n",
    "        plt.plot(orig_keypoint[p, 0], orig_keypoint[p, 1], 'b.')\n",
    "    plt.savefig(f\"{OUTPUT_PATH}/val_epoch_{epoch}.png\")\n",
    "    plt.close()\n",
    "    \n",
    "def test_keypoints_plot(image, outputs, orig_keypoints, img_id):\n",
    "    \"\"\"\n",
    "    This function plots the regressed (predicted) keypoints and the actual \n",
    "    keypoints after each validation epoch for one image in the batch.\n",
    "    \"\"\"\n",
    "    # detach the image, keypoints, and output tensors from GPU to CPU\n",
    "    image = image.detach().cpu()\n",
    "    outputs = outputs.detach().cpu().numpy()\n",
    "    orig_keypoints = orig_keypoints.detach().cpu().numpy()\n",
    "    # just get a single datapoint from each batch\n",
    "    img = image[0]\n",
    "    output_keypoint = outputs[0]\n",
    "    orig_keypoint = orig_keypoints[0]\n",
    "    img = np.array(img, dtype='float32')\n",
    "    img = np.transpose(img, (1, 2, 0))\n",
    "    plt.imshow(img)\n",
    "    \n",
    "    output_keypoint = output_keypoint.reshape(-1, 2)\n",
    "    orig_keypoint = orig_keypoint.reshape(-1, 2)\n",
    "    for p in range(output_keypoint.shape[0]):\n",
    "        plt.plot(output_keypoint[p, 0], output_keypoint[p, 1], 'r.')\n",
    "        plt.plot(orig_keypoint[p, 0], orig_keypoint[p, 1], 'b.')\n",
    "#         plt.title(\"Linear graph\") plt.title(\"Linear graph\") \n",
    "    plt.savefig(f\"{TEST_PATH}/test_{img_id}.png\")\n",
    "    plt.close()"
   ]
  },
  {
   "cell_type": "code",
   "execution_count": 5,
   "id": "3a0b9dd5",
   "metadata": {},
   "outputs": [],
   "source": [
    "def dataset_keypoints_plot(data):\n",
    "    \"\"\"\n",
    "    This function shows the image faces and keypoint plots that the model\n",
    "    will actually see. This is a good way to validate that our dataset is in\n",
    "    fact corrent and the faces align wiht the keypoint features. The plot \n",
    "    will be show just before training starts. Press `q` to quit the plot and\n",
    "    start training.\n",
    "    \"\"\"\n",
    "    plt.figure(figsize=(10, 10))\n",
    "    for i in range(9):\n",
    "        sample = data[i]\n",
    "        img = sample['image']\n",
    "        img = np.array(img, dtype='float32')\n",
    "        img = np.transpose(img, (1, 2, 0))\n",
    "        plt.subplot(3, 3, i+1)\n",
    "        plt.imshow(img)\n",
    "        keypoints = sample['keypoints']\n",
    "        for j in range(len(keypoints)):\n",
    "            plt.plot(keypoints[j, 0], keypoints[j, 1], 'b.')\n",
    "    plt.show()\n",
    "    plt.close()"
   ]
  },
  {
   "cell_type": "code",
   "execution_count": 6,
   "id": "829d857e",
   "metadata": {},
   "outputs": [],
   "source": [
    "def train_test_split(csv_path, split):\n",
    "    df_data = pd.read_csv(csv_path)\n",
    "    len_data = len(df_data)\n",
    "    # calculate the validation data sample length\n",
    "    valid_split = int(len_data * split)\n",
    "    # calculate the training data samples length\n",
    "    train_split = int(len_data - valid_split)\n",
    "    training_samples = df_data.iloc[:train_split][:]\n",
    "    valid_samples = df_data.iloc[-valid_split:][:]\n",
    "    return training_samples, valid_samples"
   ]
  },
  {
   "cell_type": "code",
   "execution_count": 7,
   "id": "5773057b",
   "metadata": {},
   "outputs": [],
   "source": [
    "# Dataset Class\n",
    "class FaceKeypointDataset(Dataset):\n",
    "    def __init__(self, samples, path):\n",
    "        self.data = samples\n",
    "        self.path = path\n",
    "        self.resize = 224\n",
    "    def __len__(self):\n",
    "        return len(self.data)\n",
    "    \n",
    "    def __getitem__(self, index):\n",
    "        image = cv2.imread(f\"{self.path}/{self.data.iloc[index][0]}\")\n",
    "        image = cv2.cvtColor(image, cv2.COLOR_BGR2RGB)\n",
    "        orig_h, orig_w, channel = image.shape\n",
    "        # resize the image into `resize` defined above\n",
    "        image = cv2.resize(image, (self.resize, self.resize))\n",
    "        # again reshape to add grayscale channel format\n",
    "        image = image / 255.0\n",
    "        # transpose for getting the channel size to index 0\n",
    "        image = np.transpose(image, (2, 0, 1))\n",
    "        # get the keypoints\n",
    "        keypoints = self.data.iloc[index][1:]\n",
    "        keypoints = np.array(keypoints, dtype='float32')\n",
    "        # reshape the keypoints\n",
    "        keypoints = keypoints.reshape(-1, 2)\n",
    "        # rescale keypoints according to image resize\n",
    "        keypoints = keypoints * [self.resize / orig_w, self.resize / orig_h]\n",
    "        return {\n",
    "            'image': torch.tensor(image, dtype=torch.float),\n",
    "            'keypoints': torch.tensor(keypoints, dtype=torch.float),\n",
    "        }"
   ]
  },
  {
   "cell_type": "code",
   "execution_count": 8,
   "id": "dcf0830c",
   "metadata": {},
   "outputs": [],
   "source": [
    "# get the training and validation data samples\n",
    "training_samples, valid_samples = train_test_split(\"./training_frames_keypoints.csv\",\n",
    "                                                   TEST_SPLIT)"
   ]
  },
  {
   "cell_type": "code",
   "execution_count": 100,
   "id": "2212a486",
   "metadata": {},
   "outputs": [
    {
     "name": "stdout",
     "output_type": "stream",
     "text": [
      "Testing sample instances: 770\n"
     ]
    }
   ],
   "source": [
    "# Load the test samples\n",
    "test_samples , v_samples = train_test_split(\"./test_frames_keypoints.csv\",0)\n",
    "\n",
    "test_data = FaceKeypointDataset(test_samples, \"./test\")\n",
    "\n",
    "test_loader = DataLoader(test_data, \n",
    "                          batch_size=BATCH_SIZE, \n",
    "                          shuffle=False)\n",
    "print(f\"Testing sample instances: {len(v_samples)}\")"
   ]
  },
  {
   "cell_type": "code",
   "execution_count": 10,
   "id": "4436860e",
   "metadata": {},
   "outputs": [
    {
     "name": "stdout",
     "output_type": "stream",
     "text": [
      "Training sample instances: 2770\n",
      "Validation sample instances: 692\n"
     ]
    }
   ],
   "source": [
    "# initialize the dataset - `FaceKeypointDataset()`\n",
    "train_data = FaceKeypointDataset(training_samples, \n",
    "                                 \"./training\")\n",
    "valid_data = FaceKeypointDataset(valid_samples, \n",
    "                                 \"./training\")\n",
    "\n",
    "\n",
    "# prepare data loaders\n",
    "train_loader = DataLoader(train_data, \n",
    "                          batch_size=BATCH_SIZE, \n",
    "                          shuffle=True)\n",
    "valid_loader = DataLoader(valid_data, \n",
    "                          batch_size=BATCH_SIZE, \n",
    "                          shuffle=False)\n",
    "print(f\"Training sample instances: {len(train_data)}\")\n",
    "print(f\"Validation sample instances: {len(valid_data)}\")"
   ]
  },
  {
   "cell_type": "markdown",
   "id": "321aefd5",
   "metadata": {},
   "source": [
    "## Model Training "
   ]
  },
  {
   "cell_type": "code",
   "execution_count": 20,
   "id": "c5cfc286",
   "metadata": {},
   "outputs": [],
   "source": [
    "import torch.nn as nn\n",
    "import torch.nn.functional as F\n",
    "import pretrainedmodels\n",
    "\n",
    "class FaceKeypointResNet18(nn.Module):\n",
    "    def __init__(self, pretrained, requires_grad):\n",
    "        super(FaceKeypointResNet18, self).__init__()\n",
    "        if pretrained == True:\n",
    "            self.model = pretrainedmodels.__dict__['resnet18'](pretrained='imagenet')\n",
    "        else:\n",
    "            self.model = pretrainedmodels.__dict__['resnet18'](pretrained=None)\n",
    "        if requires_grad == True:\n",
    "            for param in self.model.parameters():\n",
    "                param.requires_grad = True\n",
    "            print('Training intermediate layer parameters...')\n",
    "        elif requires_grad == False:\n",
    "            for param in self.model.parameters():\n",
    "                param.requires_grad = False\n",
    "            print('Freezing intermediate layer parameters...')\n",
    "        # change the final layer\n",
    "        self.l0 = nn.Linear(512, 136)\n",
    "    def forward(self, x):\n",
    "        # get the batch size only, ignore (c, h, w)\n",
    "        batch, _, _, _ = x.shape\n",
    "        x = self.model.features(x)\n",
    "        x = F.adaptive_avg_pool2d(x, 1).reshape(batch, -1)\n",
    "        l0 = self.l0(x)\n",
    "        return l0"
   ]
  },
  {
   "cell_type": "code",
   "execution_count": 92,
   "id": "1bbe1cf5",
   "metadata": {},
   "outputs": [
    {
     "name": "stdout",
     "output_type": "stream",
     "text": [
      "Training intermediate layer parameters...\n"
     ]
    }
   ],
   "source": [
    "# ResNet18 Using existing approach \n",
    "model = FaceKeypointResNet18(pretrained=True, requires_grad=True).to(DEVICE)\n",
    "# optimizer\n",
    "optimizer = optim.Adam(model.parameters(), lr=LR)\n",
    "\n",
    "\n",
    "# Different Loss Metrics used\n",
    "criterion = nn.SmoothL1Loss()\n",
    "# criterion = nn.MSELoss()\n",
    "# criterion = nn.L1Loss()\n",
    "#"
   ]
  },
  {
   "cell_type": "code",
   "execution_count": 67,
   "id": "a6fe99dd",
   "metadata": {},
   "outputs": [],
   "source": [
    "# training function\n",
    "def fit(model, dataloader, data):\n",
    "    print('Training')\n",
    "    model.train()\n",
    "    train_running_loss = 0.0\n",
    "    counter = 0\n",
    "    # calculate the number of batches\n",
    "    num_batches = int(len(data)/dataloader.batch_size)\n",
    "    for i, data in tqdm(enumerate(dataloader), total=num_batches):\n",
    "        counter += 1\n",
    "        image, keypoints = data['image'].to(DEVICE), data['keypoints'].to(DEVICE)\n",
    "        # flatten the keypoints\n",
    "        keypoints = keypoints.view(keypoints.size(0), -1)\n",
    "        optimizer.zero_grad()\n",
    "        outputs = model(image)\n",
    "        loss = criterion(outputs, keypoints)\n",
    "        train_running_loss += loss.item()\n",
    "        loss.backward()\n",
    "        optimizer.step()\n",
    "        \n",
    "    train_loss = train_running_loss/counter\n",
    "    return train_loss"
   ]
  },
  {
   "cell_type": "code",
   "execution_count": 69,
   "id": "cc39cce3",
   "metadata": {},
   "outputs": [],
   "source": [
    "# validatioon function\n",
    "def validate(model, dataloader, data, epoch):\n",
    "    print('Validating')\n",
    "    model.eval()\n",
    "    valid_running_loss = 0.0\n",
    "    counter = 0\n",
    "    # calculate the number of batches\n",
    "    num_batches = int(len(data)/dataloader.batch_size)\n",
    "    with torch.no_grad():\n",
    "        for i, data in tqdm(enumerate(dataloader), total=num_batches):\n",
    "            counter += 1\n",
    "            image, keypoints = data['image'].to(DEVICE), data['keypoints'].to(DEVICE)\n",
    "            # flatten the keypoints\n",
    "            keypoints = keypoints.view(keypoints.size(0), -1)\n",
    "            outputs = model(image)\n",
    "            loss = criterion(outputs, keypoints)\n",
    "            valid_running_loss += loss.item()\n",
    "            # plot the predicted validation keypoints after every...\n",
    "            # ... predefined number of epochs\n",
    "            if (epoch+1) % 1 == 0 and i == 0:\n",
    "                valid_keypoints_plot(image, outputs, keypoints, epoch)\n",
    "        \n",
    "    valid_loss = valid_running_loss/counter\n",
    "    return valid_loss"
   ]
  },
  {
   "cell_type": "code",
   "execution_count": 98,
   "id": "c23aac42",
   "metadata": {},
   "outputs": [],
   "source": [
    "# Testing function\n",
    "def test(model, dataloader, data):\n",
    "    print('Testing')\n",
    "    model.eval()\n",
    "    valid_running_loss = 0.0\n",
    "    counter = 0\n",
    "    # calculate the number of batches\n",
    "    num_batches = int(len(data)/dataloader.batch_size)\n",
    "    print(\"Batches: \" , num_batches)\n",
    "    with torch.no_grad():\n",
    "        for i, data in tqdm(enumerate(dataloader), total=num_batches):\n",
    "            counter += 1\n",
    "            image, keypoints = data['image'].to(DEVICE), data['keypoints'].to(DEVICE)\n",
    "            # flatten the keypoints\n",
    "            keypoints = keypoints.view(keypoints.size(0), -1)\n",
    "            outputs = model(image)\n",
    "            loss = criterion(outputs, keypoints)\n",
    "            valid_running_loss += loss.item()\n",
    "            # plot the predicted validation keypoints after every...\n",
    "            # ... predefined number of epochs\n",
    "#             if i == 0:\n",
    "            test_keypoints_plot(image, outputs, keypoints, counter)\n",
    "        \n",
    "    valid_loss = valid_running_loss/counter\n",
    "    print(counter)\n",
    "    return valid_loss"
   ]
  },
  {
   "cell_type": "code",
   "execution_count": 93,
   "id": "cf593482",
   "metadata": {
    "scrolled": true
   },
   "outputs": [
    {
     "name": "stdout",
     "output_type": "stream",
     "text": [
      "Epoch 1 of 30\n",
      "Training\n"
     ]
    },
    {
     "name": "stderr",
     "output_type": "stream",
     "text": [
      "87it [00:16,  5.12it/s]                        \n"
     ]
    },
    {
     "name": "stdout",
     "output_type": "stream",
     "text": [
      "Validating\n"
     ]
    },
    {
     "name": "stderr",
     "output_type": "stream",
     "text": [
      "22it [00:03,  5.69it/s]                        \n"
     ]
    },
    {
     "name": "stdout",
     "output_type": "stream",
     "text": [
      "Train Loss: 82.3511\n",
      "Val Loss: 27.5540\n",
      "Epoch 2 of 30\n",
      "Training\n"
     ]
    },
    {
     "name": "stderr",
     "output_type": "stream",
     "text": [
      "87it [00:16,  5.23it/s]                        \n"
     ]
    },
    {
     "name": "stdout",
     "output_type": "stream",
     "text": [
      "Validating\n"
     ]
    },
    {
     "name": "stderr",
     "output_type": "stream",
     "text": [
      "22it [00:04,  4.58it/s]                        \n"
     ]
    },
    {
     "name": "stdout",
     "output_type": "stream",
     "text": [
      "Train Loss: 17.3653\n",
      "Val Loss: 7.4707\n",
      "Epoch 3 of 30\n",
      "Training\n"
     ]
    },
    {
     "name": "stderr",
     "output_type": "stream",
     "text": [
      "87it [00:15,  5.66it/s]                        \n"
     ]
    },
    {
     "name": "stdout",
     "output_type": "stream",
     "text": [
      "Validating\n"
     ]
    },
    {
     "name": "stderr",
     "output_type": "stream",
     "text": [
      "22it [00:03,  6.02it/s]                        \n"
     ]
    },
    {
     "name": "stdout",
     "output_type": "stream",
     "text": [
      "Train Loss: 7.2836\n",
      "Val Loss: 7.3671\n",
      "Epoch 4 of 30\n",
      "Training\n"
     ]
    },
    {
     "name": "stderr",
     "output_type": "stream",
     "text": [
      "87it [00:19,  4.38it/s]                        \n"
     ]
    },
    {
     "name": "stdout",
     "output_type": "stream",
     "text": [
      "Validating\n"
     ]
    },
    {
     "name": "stderr",
     "output_type": "stream",
     "text": [
      "22it [00:04,  5.49it/s]                        \n"
     ]
    },
    {
     "name": "stdout",
     "output_type": "stream",
     "text": [
      "Train Loss: 7.1545\n",
      "Val Loss: 7.6123\n",
      "Epoch 5 of 30\n",
      "Training\n"
     ]
    },
    {
     "name": "stderr",
     "output_type": "stream",
     "text": [
      "87it [00:19,  4.41it/s]                        \n"
     ]
    },
    {
     "name": "stdout",
     "output_type": "stream",
     "text": [
      "Validating\n"
     ]
    },
    {
     "name": "stderr",
     "output_type": "stream",
     "text": [
      "22it [00:04,  5.23it/s]                        \n"
     ]
    },
    {
     "name": "stdout",
     "output_type": "stream",
     "text": [
      "Train Loss: 5.8173\n",
      "Val Loss: 4.9630\n",
      "Epoch 6 of 30\n",
      "Training\n"
     ]
    },
    {
     "name": "stderr",
     "output_type": "stream",
     "text": [
      "87it [00:15,  5.72it/s]                        \n"
     ]
    },
    {
     "name": "stdout",
     "output_type": "stream",
     "text": [
      "Validating\n"
     ]
    },
    {
     "name": "stderr",
     "output_type": "stream",
     "text": [
      "22it [00:03,  5.90it/s]                        \n"
     ]
    },
    {
     "name": "stdout",
     "output_type": "stream",
     "text": [
      "Train Loss: 4.7356\n",
      "Val Loss: 4.5219\n",
      "Epoch 7 of 30\n",
      "Training\n"
     ]
    },
    {
     "name": "stderr",
     "output_type": "stream",
     "text": [
      "87it [00:14,  6.15it/s]                        \n"
     ]
    },
    {
     "name": "stdout",
     "output_type": "stream",
     "text": [
      "Validating\n"
     ]
    },
    {
     "name": "stderr",
     "output_type": "stream",
     "text": [
      "22it [00:03,  5.82it/s]                        \n"
     ]
    },
    {
     "name": "stdout",
     "output_type": "stream",
     "text": [
      "Train Loss: 4.5462\n",
      "Val Loss: 4.3812\n",
      "Epoch 8 of 30\n",
      "Training\n"
     ]
    },
    {
     "name": "stderr",
     "output_type": "stream",
     "text": [
      "87it [00:16,  5.18it/s]                        \n"
     ]
    },
    {
     "name": "stdout",
     "output_type": "stream",
     "text": [
      "Validating\n"
     ]
    },
    {
     "name": "stderr",
     "output_type": "stream",
     "text": [
      "22it [00:04,  5.19it/s]                        \n"
     ]
    },
    {
     "name": "stdout",
     "output_type": "stream",
     "text": [
      "Train Loss: 4.4223\n",
      "Val Loss: 4.2035\n",
      "Epoch 9 of 30\n",
      "Training\n"
     ]
    },
    {
     "name": "stderr",
     "output_type": "stream",
     "text": [
      "87it [00:15,  5.46it/s]                        \n"
     ]
    },
    {
     "name": "stdout",
     "output_type": "stream",
     "text": [
      "Validating\n"
     ]
    },
    {
     "name": "stderr",
     "output_type": "stream",
     "text": [
      "22it [00:03,  6.08it/s]                        \n"
     ]
    },
    {
     "name": "stdout",
     "output_type": "stream",
     "text": [
      "Train Loss: 4.1212\n",
      "Val Loss: 4.4790\n",
      "Epoch 10 of 30\n",
      "Training\n"
     ]
    },
    {
     "name": "stderr",
     "output_type": "stream",
     "text": [
      "87it [00:13,  6.27it/s]                        \n"
     ]
    },
    {
     "name": "stdout",
     "output_type": "stream",
     "text": [
      "Validating\n"
     ]
    },
    {
     "name": "stderr",
     "output_type": "stream",
     "text": [
      "22it [00:04,  5.21it/s]                        \n"
     ]
    },
    {
     "name": "stdout",
     "output_type": "stream",
     "text": [
      "Train Loss: 3.9728\n",
      "Val Loss: 3.6614\n",
      "Epoch 11 of 30\n",
      "Training\n"
     ]
    },
    {
     "name": "stderr",
     "output_type": "stream",
     "text": [
      "87it [00:14,  6.12it/s]                        \n"
     ]
    },
    {
     "name": "stdout",
     "output_type": "stream",
     "text": [
      "Validating\n"
     ]
    },
    {
     "name": "stderr",
     "output_type": "stream",
     "text": [
      "22it [00:03,  5.90it/s]                        \n"
     ]
    },
    {
     "name": "stdout",
     "output_type": "stream",
     "text": [
      "Train Loss: 3.8623\n",
      "Val Loss: 3.7976\n",
      "Epoch 12 of 30\n",
      "Training\n"
     ]
    },
    {
     "name": "stderr",
     "output_type": "stream",
     "text": [
      "87it [00:14,  6.11it/s]                        \n"
     ]
    },
    {
     "name": "stdout",
     "output_type": "stream",
     "text": [
      "Validating\n"
     ]
    },
    {
     "name": "stderr",
     "output_type": "stream",
     "text": [
      "22it [00:03,  6.10it/s]                        \n"
     ]
    },
    {
     "name": "stdout",
     "output_type": "stream",
     "text": [
      "Train Loss: 3.8298\n",
      "Val Loss: 3.5885\n",
      "Epoch 13 of 30\n",
      "Training\n"
     ]
    },
    {
     "name": "stderr",
     "output_type": "stream",
     "text": [
      "87it [00:14,  6.20it/s]                        \n"
     ]
    },
    {
     "name": "stdout",
     "output_type": "stream",
     "text": [
      "Validating\n"
     ]
    },
    {
     "name": "stderr",
     "output_type": "stream",
     "text": [
      "22it [00:03,  6.09it/s]                        \n"
     ]
    },
    {
     "name": "stdout",
     "output_type": "stream",
     "text": [
      "Train Loss: 3.7401\n",
      "Val Loss: 3.9064\n",
      "Epoch 14 of 30\n",
      "Training\n"
     ]
    },
    {
     "name": "stderr",
     "output_type": "stream",
     "text": [
      "87it [00:15,  5.62it/s]                        \n"
     ]
    },
    {
     "name": "stdout",
     "output_type": "stream",
     "text": [
      "Validating\n"
     ]
    },
    {
     "name": "stderr",
     "output_type": "stream",
     "text": [
      "22it [00:03,  5.53it/s]                        \n"
     ]
    },
    {
     "name": "stdout",
     "output_type": "stream",
     "text": [
      "Train Loss: 3.5998\n",
      "Val Loss: 4.7158\n",
      "Epoch 15 of 30\n",
      "Training\n"
     ]
    },
    {
     "name": "stderr",
     "output_type": "stream",
     "text": [
      "87it [00:16,  5.43it/s]                        \n"
     ]
    },
    {
     "name": "stdout",
     "output_type": "stream",
     "text": [
      "Validating\n"
     ]
    },
    {
     "name": "stderr",
     "output_type": "stream",
     "text": [
      "22it [00:04,  5.27it/s]                        \n"
     ]
    },
    {
     "name": "stdout",
     "output_type": "stream",
     "text": [
      "Train Loss: 3.4650\n",
      "Val Loss: 3.2853\n",
      "Epoch 16 of 30\n",
      "Training\n"
     ]
    },
    {
     "name": "stderr",
     "output_type": "stream",
     "text": [
      "87it [00:15,  5.51it/s]                        \n"
     ]
    },
    {
     "name": "stdout",
     "output_type": "stream",
     "text": [
      "Validating\n"
     ]
    },
    {
     "name": "stderr",
     "output_type": "stream",
     "text": [
      "22it [00:03,  6.10it/s]                        \n"
     ]
    },
    {
     "name": "stdout",
     "output_type": "stream",
     "text": [
      "Train Loss: 3.3445\n",
      "Val Loss: 3.2050\n",
      "Epoch 17 of 30\n",
      "Training\n"
     ]
    },
    {
     "name": "stderr",
     "output_type": "stream",
     "text": [
      "87it [00:13,  6.26it/s]                        \n"
     ]
    },
    {
     "name": "stdout",
     "output_type": "stream",
     "text": [
      "Validating\n"
     ]
    },
    {
     "name": "stderr",
     "output_type": "stream",
     "text": [
      "22it [00:04,  5.22it/s]                        \n"
     ]
    },
    {
     "name": "stdout",
     "output_type": "stream",
     "text": [
      "Train Loss: 3.2032\n",
      "Val Loss: 3.0868\n",
      "Epoch 18 of 30\n",
      "Training\n"
     ]
    },
    {
     "name": "stderr",
     "output_type": "stream",
     "text": [
      "87it [00:14,  6.21it/s]                        \n"
     ]
    },
    {
     "name": "stdout",
     "output_type": "stream",
     "text": [
      "Validating\n"
     ]
    },
    {
     "name": "stderr",
     "output_type": "stream",
     "text": [
      "22it [00:03,  6.15it/s]                        \n"
     ]
    },
    {
     "name": "stdout",
     "output_type": "stream",
     "text": [
      "Train Loss: 3.1155\n",
      "Val Loss: 2.8329\n",
      "Epoch 19 of 30\n",
      "Training\n"
     ]
    },
    {
     "name": "stderr",
     "output_type": "stream",
     "text": [
      "87it [00:14,  6.00it/s]                        \n"
     ]
    },
    {
     "name": "stdout",
     "output_type": "stream",
     "text": [
      "Validating\n"
     ]
    },
    {
     "name": "stderr",
     "output_type": "stream",
     "text": [
      "22it [00:03,  5.90it/s]                        \n"
     ]
    },
    {
     "name": "stdout",
     "output_type": "stream",
     "text": [
      "Train Loss: 3.0249\n",
      "Val Loss: 3.5105\n",
      "Epoch 20 of 30\n",
      "Training\n"
     ]
    },
    {
     "name": "stderr",
     "output_type": "stream",
     "text": [
      "87it [00:15,  5.63it/s]                        \n"
     ]
    },
    {
     "name": "stdout",
     "output_type": "stream",
     "text": [
      "Validating\n"
     ]
    },
    {
     "name": "stderr",
     "output_type": "stream",
     "text": [
      "22it [00:04,  5.50it/s]                        \n"
     ]
    },
    {
     "name": "stdout",
     "output_type": "stream",
     "text": [
      "Train Loss: 2.9896\n",
      "Val Loss: 2.9706\n",
      "Epoch 21 of 30\n",
      "Training\n"
     ]
    },
    {
     "name": "stderr",
     "output_type": "stream",
     "text": [
      "87it [00:15,  5.48it/s]                        \n"
     ]
    },
    {
     "name": "stdout",
     "output_type": "stream",
     "text": [
      "Validating\n"
     ]
    },
    {
     "name": "stderr",
     "output_type": "stream",
     "text": [
      "22it [00:03,  5.98it/s]                        \n"
     ]
    },
    {
     "name": "stdout",
     "output_type": "stream",
     "text": [
      "Train Loss: 2.7253\n",
      "Val Loss: 3.3012\n",
      "Epoch 22 of 30\n",
      "Training\n"
     ]
    },
    {
     "name": "stderr",
     "output_type": "stream",
     "text": [
      "87it [00:14,  6.08it/s]                        \n"
     ]
    },
    {
     "name": "stdout",
     "output_type": "stream",
     "text": [
      "Validating\n"
     ]
    },
    {
     "name": "stderr",
     "output_type": "stream",
     "text": [
      "22it [00:03,  5.93it/s]                        \n"
     ]
    },
    {
     "name": "stdout",
     "output_type": "stream",
     "text": [
      "Train Loss: 2.4120\n",
      "Val Loss: 2.3614\n",
      "Epoch 23 of 30\n",
      "Training\n"
     ]
    },
    {
     "name": "stderr",
     "output_type": "stream",
     "text": [
      "87it [00:15,  5.70it/s]                        \n"
     ]
    },
    {
     "name": "stdout",
     "output_type": "stream",
     "text": [
      "Validating\n"
     ]
    },
    {
     "name": "stderr",
     "output_type": "stream",
     "text": [
      "22it [00:04,  4.94it/s]                        \n"
     ]
    },
    {
     "name": "stdout",
     "output_type": "stream",
     "text": [
      "Train Loss: 2.4264\n",
      "Val Loss: 2.2778\n",
      "Epoch 24 of 30\n",
      "Training\n"
     ]
    },
    {
     "name": "stderr",
     "output_type": "stream",
     "text": [
      "87it [00:14,  6.07it/s]                        \n"
     ]
    },
    {
     "name": "stdout",
     "output_type": "stream",
     "text": [
      "Validating\n"
     ]
    },
    {
     "name": "stderr",
     "output_type": "stream",
     "text": [
      "22it [00:04,  5.36it/s]                        \n"
     ]
    },
    {
     "name": "stdout",
     "output_type": "stream",
     "text": [
      "Train Loss: 2.2179\n",
      "Val Loss: 2.2210\n",
      "Epoch 25 of 30\n",
      "Training\n"
     ]
    },
    {
     "name": "stderr",
     "output_type": "stream",
     "text": [
      "87it [00:14,  6.20it/s]                        \n"
     ]
    },
    {
     "name": "stdout",
     "output_type": "stream",
     "text": [
      "Validating\n"
     ]
    },
    {
     "name": "stderr",
     "output_type": "stream",
     "text": [
      "22it [00:03,  5.79it/s]                        \n"
     ]
    },
    {
     "name": "stdout",
     "output_type": "stream",
     "text": [
      "Train Loss: 2.0731\n",
      "Val Loss: 2.1713\n",
      "Epoch 26 of 30\n",
      "Training\n"
     ]
    },
    {
     "name": "stderr",
     "output_type": "stream",
     "text": [
      "87it [00:15,  5.79it/s]                        \n"
     ]
    },
    {
     "name": "stdout",
     "output_type": "stream",
     "text": [
      "Validating\n"
     ]
    },
    {
     "name": "stderr",
     "output_type": "stream",
     "text": [
      "22it [00:03,  6.07it/s]                        \n"
     ]
    },
    {
     "name": "stdout",
     "output_type": "stream",
     "text": [
      "Train Loss: 2.0477\n",
      "Val Loss: 2.0716\n",
      "Epoch 27 of 30\n",
      "Training\n"
     ]
    },
    {
     "name": "stderr",
     "output_type": "stream",
     "text": [
      "87it [00:17,  5.12it/s]                        \n"
     ]
    },
    {
     "name": "stdout",
     "output_type": "stream",
     "text": [
      "Validating\n"
     ]
    },
    {
     "name": "stderr",
     "output_type": "stream",
     "text": [
      "22it [00:04,  5.43it/s]                        \n"
     ]
    },
    {
     "name": "stdout",
     "output_type": "stream",
     "text": [
      "Train Loss: 1.9754\n",
      "Val Loss: 1.8238\n",
      "Epoch 28 of 30\n",
      "Training\n"
     ]
    },
    {
     "name": "stderr",
     "output_type": "stream",
     "text": [
      "87it [00:17,  5.02it/s]                        \n"
     ]
    },
    {
     "name": "stdout",
     "output_type": "stream",
     "text": [
      "Validating\n"
     ]
    },
    {
     "name": "stderr",
     "output_type": "stream",
     "text": [
      "22it [00:03,  5.60it/s]                        \n"
     ]
    },
    {
     "name": "stdout",
     "output_type": "stream",
     "text": [
      "Train Loss: 1.9275\n",
      "Val Loss: 2.0486\n",
      "Epoch 29 of 30\n",
      "Training\n"
     ]
    },
    {
     "name": "stderr",
     "output_type": "stream",
     "text": [
      "87it [00:16,  5.22it/s]                        \n"
     ]
    },
    {
     "name": "stdout",
     "output_type": "stream",
     "text": [
      "Validating\n"
     ]
    },
    {
     "name": "stderr",
     "output_type": "stream",
     "text": [
      "22it [00:04,  4.58it/s]                        \n"
     ]
    },
    {
     "name": "stdout",
     "output_type": "stream",
     "text": [
      "Train Loss: 1.8553\n",
      "Val Loss: 1.7919\n",
      "Epoch 30 of 30\n",
      "Training\n"
     ]
    },
    {
     "name": "stderr",
     "output_type": "stream",
     "text": [
      "87it [00:15,  5.53it/s]                        \n"
     ]
    },
    {
     "name": "stdout",
     "output_type": "stream",
     "text": [
      "Validating\n"
     ]
    },
    {
     "name": "stderr",
     "output_type": "stream",
     "text": [
      "22it [00:04,  5.03it/s]                        "
     ]
    },
    {
     "name": "stdout",
     "output_type": "stream",
     "text": [
      "Train Loss: 1.8399\n",
      "Val Loss: 2.3063\n"
     ]
    },
    {
     "name": "stderr",
     "output_type": "stream",
     "text": [
      "\n"
     ]
    }
   ],
   "source": [
    "train_loss = []\n",
    "val_loss = []\n",
    "for epoch in range(EPOCHS):\n",
    "    print(f\"Epoch {epoch+1} of {EPOCHS}\")\n",
    "    train_epoch_loss = fit(model, train_loader, train_data)\n",
    "    val_epoch_loss = validate(model, valid_loader, valid_data, epoch)\n",
    "    train_loss.append(train_epoch_loss)\n",
    "    val_loss.append(val_epoch_loss)\n",
    "    print(f\"Train Loss: {train_epoch_loss:.4f}\")\n",
    "    print(f'Val Loss: {val_epoch_loss:.4f}')"
   ]
  },
  {
   "cell_type": "markdown",
   "id": "aa9d65cf",
   "metadata": {},
   "source": [
    "## Saving Logs"
   ]
  },
  {
   "cell_type": "code",
   "execution_count": 72,
   "id": "570faf49",
   "metadata": {},
   "outputs": [],
   "source": [
    "# Save the history for plotting\n",
    "import pickle\n",
    "with open('./Results/Losses/L1-KeyPoint-Ep30-B-32-Train', 'wb') as file_pi:\n",
    "    pickle.dump(train_loss, file_pi)\n",
    "    \n",
    "with open('./Results/Losses/L1-KeyPoint-Ep30-B-32-Val', 'wb') as file_pi:\n",
    "    pickle.dump(val_loss, file_pi)"
   ]
  },
  {
   "cell_type": "code",
   "execution_count": null,
   "id": "8c726a44",
   "metadata": {},
   "outputs": [],
   "source": []
  },
  {
   "cell_type": "code",
   "execution_count": 2,
   "id": "00dfcd63",
   "metadata": {},
   "outputs": [
    {
     "data": {
      "text/plain": [
       "[[3038.4863059303975,\n",
       "  246.3933757435192,\n",
       "  132.96605508977717,\n",
       "  110.40761947631836,\n",
       "  108.5311508178711,\n",
       "  110.74589573253284,\n",
       "  90.50373632257634,\n",
       "  63.28908850929954,\n",
       "  55.43817572160201,\n",
       "  52.45093189586293,\n",
       "  45.58364790136164,\n",
       "  42.43471197648482,\n",
       "  38.42891415682706,\n",
       "  42.62312160838734,\n",
       "  34.52179934761741,\n",
       "  34.653578844937414,\n",
       "  27.429601409218527,\n",
       "  23.811876817183062,\n",
       "  25.252927346663043,\n",
       "  23.77852808345448,\n",
       "  22.63140934163874,\n",
       "  20.054995276711203,\n",
       "  25.106378295204856,\n",
       "  18.592792901125822,\n",
       "  22.836777340282094,\n",
       "  17.25272169980136,\n",
       "  16.238750327717174,\n",
       "  14.789298100904984,\n",
       "  14.636589006944137,\n",
       "  10.287750460884787],\n",
       " [8199.75111406699,\n",
       "  1270.1864289031632,\n",
       "  153.00704885899336,\n",
       "  102.94179626991009,\n",
       "  100.623805605132,\n",
       "  98.16044489542644,\n",
       "  85.50948254815464,\n",
       "  65.41982238594143,\n",
       "  54.059729214372304,\n",
       "  49.91775508310603,\n",
       "  47.05990637855968,\n",
       "  46.255599909815295,\n",
       "  42.149898945600135,\n",
       "  38.065072004822476,\n",
       "  34.46702718186653,\n",
       "  32.393414596031455,\n",
       "  28.759844549771014,\n",
       "  26.331067205845624,\n",
       "  24.93454360961914,\n",
       "  23.76554500097516,\n",
       "  21.566866184103077,\n",
       "  21.717465345886932,\n",
       "  22.4307382737083,\n",
       "  20.172486513510517,\n",
       "  19.83074632184259,\n",
       "  17.990855611603834,\n",
       "  15.282857138535071,\n",
       "  13.625877150173846,\n",
       "  12.752835312108884,\n",
       "  12.044161517044593],\n",
       " [82.2559806122177,\n",
       "  17.404094520656542,\n",
       "  7.258497945193587,\n",
       "  6.794249649705558,\n",
       "  5.127452839380023,\n",
       "  4.744452473761021,\n",
       "  4.550441289770192,\n",
       "  4.0956169216112155,\n",
       "  3.9398756794545844,\n",
       "  3.8337135451963578,\n",
       "  3.788042830324721,\n",
       "  3.7390822076249397,\n",
       "  3.486621135952829,\n",
       "  3.3627831771455963,\n",
       "  3.2835815363916856,\n",
       "  3.0732600634125458,\n",
       "  3.0621075465761383,\n",
       "  2.9073955738681487,\n",
       "  2.882085178090238,\n",
       "  2.6558877215988335,\n",
       "  2.486441257356227,\n",
       "  2.2831905778797195,\n",
       "  2.1739733671319894,\n",
       "  2.1367565201616836,\n",
       "  2.0674432118733725,\n",
       "  1.9623619715372722,\n",
       "  2.001246198840525,\n",
       "  1.9785930781528867,\n",
       "  1.8575063149134319,\n",
       "  1.9207300797276112],\n",
       " [82.8344006154729,\n",
       "  17.886470180818403,\n",
       "  7.734280114886404,\n",
       "  7.634965047068979,\n",
       "  7.161813149507019,\n",
       "  5.4331354437203245,\n",
       "  5.184361019353757,\n",
       "  5.005086145181766,\n",
       "  4.708005458459087,\n",
       "  4.561393959768887,\n",
       "  4.406344487749297,\n",
       "  4.312352660058559,\n",
       "  4.303792619157112,\n",
       "  4.118423872980578,\n",
       "  3.972282741261625,\n",
       "  3.872910167979098,\n",
       "  3.7169150182570534,\n",
       "  3.615880442761827,\n",
       "  3.6698765754699707,\n",
       "  3.5165145095737502,\n",
       "  3.509719144338849,\n",
       "  3.359548782480174,\n",
       "  3.3060314901943864,\n",
       "  3.208413633806952,\n",
       "  2.8453818381517784,\n",
       "  2.6335429062788513,\n",
       "  2.4307401235076203,\n",
       "  2.427398656976634,\n",
       "  2.461409265967621,\n",
       "  2.3758695509241914],\n",
       " [31.701926838267934,\n",
       "  9.548520131544633,\n",
       "  8.182184652848678,\n",
       "  7.675226926803589,\n",
       "  5.782472242008556,\n",
       "  9.026481108231978,\n",
       "  5.646416490728205,\n",
       "  5.045557260513306,\n",
       "  5.325441230427135,\n",
       "  4.265844215046275,\n",
       "  4.17030143737793,\n",
       "  4.068594412370161,\n",
       "  5.233978206461126,\n",
       "  3.7483562989668413,\n",
       "  3.7699437574906782,\n",
       "  4.411929499019276,\n",
       "  3.477284236387773,\n",
       "  4.125576181845232,\n",
       "  3.2910434874621304,\n",
       "  3.323351654139432,\n",
       "  3.3838902061635796,\n",
       "  3.278995091264898,\n",
       "  3.742248946970159,\n",
       "  3.391475569118153,\n",
       "  3.6413404833186758,\n",
       "  3.1966820305044,\n",
       "  2.6202045137232,\n",
       "  2.931827935305509,\n",
       "  2.779925227165222,\n",
       "  2.6233124949715356],\n",
       " [37.45470376448198,\n",
       "  7.664105198600075,\n",
       "  7.596933798356489,\n",
       "  9.875257362018932,\n",
       "  5.2170632102272725,\n",
       "  5.111801342530684,\n",
       "  4.519096266139638,\n",
       "  5.180148926648227,\n",
       "  4.124830408529802,\n",
       "  4.799513166601008,\n",
       "  3.682927814396945,\n",
       "  3.6209006092765113,\n",
       "  3.548918702385642,\n",
       "  3.152825279669328,\n",
       "  3.147684758359736,\n",
       "  3.3170507712797686,\n",
       "  3.8687487190419976,\n",
       "  2.951034199107777,\n",
       "  2.9730378172614356,\n",
       "  2.3751180171966553,\n",
       "  2.960022200237621,\n",
       "  2.3666746616363525,\n",
       "  1.8996995199810376,\n",
       "  3.004528760910034,\n",
       "  1.950473736632954,\n",
       "  2.112445430322127,\n",
       "  2.66281859441237,\n",
       "  1.707106514410539,\n",
       "  1.8271692557768389,\n",
       "  2.119737749749964]]"
      ]
     },
     "execution_count": 2,
     "metadata": {},
     "output_type": "execute_result"
    }
   ],
   "source": [
    "# Print all the files for that specific task. The files are \n",
    "# actually history of the model training which will then be \n",
    "# used to plot the graphs\n",
    "import os\n",
    "import pickle\n",
    "total_files = os.listdir('./Results/Losses/')\n",
    "total_files.sort(key=lambda f: int(''.join(filter(str.isdigit, f))))\n",
    "total_files\n",
    "\n",
    "# Load all the history files from data folder to plot them collectively\n",
    "\n",
    "history_all = []\n",
    "for i in range(len(total_files)):\n",
    "    with open(f'./Results/Losses/{total_files[i]}', \"rb\") as file_pi:\n",
    "        history_new = pickle.load(file_pi)\n",
    "        history_all.append(history_new)\n",
    "    \n",
    "history_all"
   ]
  },
  {
   "cell_type": "code",
   "execution_count": 5,
   "id": "64ef66d8",
   "metadata": {},
   "outputs": [
    {
     "data": {
      "text/plain": [
       "<matplotlib.legend.Legend at 0x7fac6f3efdf0>"
      ]
     },
     "execution_count": 5,
     "metadata": {},
     "output_type": "execute_result"
    },
    {
     "data": {
      "image/png": "[encoded data removed]",
      "text/plain": [
       "<Figure size 640x480 with 1 Axes>"
      ]
     },
     "metadata": {},
     "output_type": "display_data"
    }
   ],
   "source": [
    "# Plot graphs for validation accuracy\n",
    "\n",
    "plt.plot([x for x in history_all[1]][2:], linestyle='dashed' , label ='MSE - Train')\n",
    "# plt.plot([x for x in history_all[0]][2:], linestyle='-.' , linewidth=2, label ='MSE - Val')\n",
    "plt.plot([x for x in history_all[2]][2:], linestyle='dashed' , label ='SL1 - Train')\n",
    "# plt.plot([x for x in history_all[5]][2:], linestyle='-.' , linewidth=2, label ='SL1 - Val')\n",
    "plt.plot([x for x in history_all[3]][2:], linestyle='dashed' , label ='MAE - Train')\n",
    "# plt.plot([x for x in history_all[4]][2:], linestyle='-.' , linewidth=2, label ='MAE - Val')\n",
    "# plt.plot([x['val_acc'] for x in history_all[1]], linestyle='dashed' , label ='Dropout - 0.5')\n",
    "\n",
    "plt.xlabel('Epoch')\n",
    "plt.ylabel('Loss')\n",
    "plt.title('Training Loss')\n",
    "plt.legend()\n",
    "\n",
    "\n"
   ]
  },
  {
   "cell_type": "code",
   "execution_count": 6,
   "id": "9171e3c3",
   "metadata": {},
   "outputs": [
    {
     "data": {
      "text/plain": [
       "<matplotlib.legend.Legend at 0x7fac6f293580>"
      ]
     },
     "execution_count": 6,
     "metadata": {},
     "output_type": "execute_result"
    },
    {
     "data": {
      "image/png": "[encoded data removed]",
      "text/plain": [
       "<Figure size 640x480 with 1 Axes>"
      ]
     },
     "metadata": {},
     "output_type": "display_data"
    }
   ],
   "source": [
    "# plt.plot([x for x in history_all[1]][2:], linestyle='dashed' , label ='MSE - Train')\n",
    "plt.plot([x for x in history_all[0]][2:], linestyle='-.' , linewidth=2, label ='MSE - Val')\n",
    "# plt.plot([x for x in history_all[2]][2:], linestyle='dashed' , label ='SL1 - Train')\n",
    "plt.plot([x for x in history_all[5]][2:], linestyle='-.' , linewidth=2, label ='SL1 - Val')\n",
    "# plt.plot([x for x in history_all[3]][2:], linestyle='dashed' , label ='MAE - Train')\n",
    "plt.plot([x for x in history_all[4]][2:], linestyle='-.' , linewidth=2, label ='MAE - Val')\n",
    "# plt.plot([x['val_acc'] for x in history_all[1]], linestyle='dashed' , label ='Dropout - 0.5')\n",
    "\n",
    "plt.xlabel('Epoch')\n",
    "plt.ylabel('Loss')\n",
    "plt.title('Validation Loss')\n",
    "plt.legend()\n"
   ]
  },
  {
   "cell_type": "code",
   "execution_count": null,
   "id": "f93c4a7c",
   "metadata": {},
   "outputs": [],
   "source": []
  },
  {
   "cell_type": "code",
   "execution_count": null,
   "id": "f165d479",
   "metadata": {},
   "outputs": [],
   "source": []
  }
 ],
 "metadata": {
  "kernelspec": {
   "display_name": "Python 3 (ipykernel)",
   "language": "python",
   "name": "python3"
  },
  "language_info": {
   "codemirror_mode": {
    "name": "ipython",
    "version": 3
   },
   "file_extension": ".py",
   "mimetype": "text/x-python",
   "name": "python",
   "nbconvert_exporter": "python",
   "pygments_lexer": "ipython3",
   "version": "3.8.13"
  }
 },
 "nbformat": 4,
 "nbformat_minor": 5
}
